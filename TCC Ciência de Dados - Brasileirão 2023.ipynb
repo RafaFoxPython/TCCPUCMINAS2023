{
 "cells": [
  {
   "cell_type": "code",
   "execution_count": 1,
   "id": "027be7dd",
   "metadata": {},
   "outputs": [
    {
     "name": "stdout",
     "output_type": "stream",
     "text": [
      "https://www.cbf.com.br/futebol-brasileiro/competicoes/campeonato-brasileiro-serie-a/2012\n",
      "{'serie': 'A', 'temporada': 2012, 'estadio': 'Pacaembu', 'cidade': 'Sao Paulo', 'estado': 'SP', 'dia_semana': 'Sábado', 'dia_numero': 19, 'mes': ' Maio ', 'ano': 2012, 'hora': '18:30', 'mandante': 'Palmeiras - SP', 'visitante': 'Portuguesa - SP', 'gol_mandante': 1, 'gol_visitante': 1, 'vitoria_mandante': 0, 'vitoria_visitante': 0, 'jogo_empatado': 1, 'ponto_mandante': 1, 'ponto_visitante': 1}\n",
      "{'serie': 'A', 'temporada': 2012, 'estadio': 'Ilha do Retiro', 'cidade': 'Recife', 'estado': 'PE', 'dia_semana': 'Sábado', 'dia_numero': 19, 'mes': ' Maio ', 'ano': 2012, 'hora': '18:30', 'mandante': 'Sport - PE', 'visitante': 'Flamengo - RJ', 'gol_mandante': 1, 'gol_visitante': 1, 'vitoria_mandante': 0, 'vitoria_visitante': 0, 'jogo_empatado': 1, 'ponto_mandante': 1, 'ponto_visitante': 1}\n",
      "{'serie': 'A', 'temporada': 2012, 'estadio': 'Orlando Scarpelli', 'cidade': 'Florianopolis', 'estado': 'SC', 'dia_semana': 'Sábado', 'dia_numero': 19, 'mes': ' Maio ', 'ano': 2012, 'hora': '21:00', 'mandante': 'Figueirense - SC', 'visitante': 'Náutico - PE', 'gol_mandante': 2, 'gol_visitante': 1, 'vitoria_mandante': 1, 'vitoria_visitante': 0, 'jogo_empatado': 0, 'ponto_mandante': 3, 'ponto_visitante': 0}\n",
      "{'serie': 'A', 'temporada': 2012, 'estadio': 'Moisés Lucarelli', 'cidade': 'Campinas', 'estado': 'SP', 'dia_semana': 'Domingo', 'dia_numero': 20, 'mes': ' Maio ', 'ano': 2012, 'hora': '16:00', 'mandante': 'Ponte Preta - SP', 'visitante': 'Atlético - MG', 'gol_mandante': 0, 'gol_visitante': 1, 'vitoria_mandante': 0, 'vitoria_visitante': 1, 'jogo_empatado': 0, 'ponto_mandante': 0, 'ponto_visitante': 3}\n",
      "{'serie': 'A', 'temporada': 2012, 'estadio': 'Pacaembu', 'cidade': 'Sao Paulo', 'estado': 'SP', 'dia_semana': 'Domingo', 'dia_numero': 20, 'mes': ' Maio ', 'ano': 2012, 'hora': '16:00', 'mandante': 'Corinthians - SP', 'visitante': 'Fluminense - RJ', 'gol_mandante': 0, 'gol_visitante': 1, 'vitoria_mandante': 0, 'vitoria_visitante': 1, 'jogo_empatado': 0, 'ponto_mandante': 0, 'ponto_visitante': 3}\n",
      "{'serie': 'A', 'temporada': 2012, 'estadio': 'João Havelange', 'cidade': 'Rio de Janeiro', 'estado': 'RJ', 'dia_semana': 'Domingo', 'dia_numero': 20, 'mes': ' Maio ', 'ano': 2012, 'hora': '16:00', 'mandante': 'Botafogo - RJ', 'visitante': 'São Paulo - SP', 'gol_mandante': 4, 'gol_visitante': 2, 'vitoria_mandante': 1, 'vitoria_visitante': 0, 'jogo_empatado': 0, 'ponto_mandante': 3, 'ponto_visitante': 0}\n",
      "{'serie': 'A', 'temporada': 2012, 'estadio': 'Beira', 'cidade': 'Rio', 'estado': 'Porto Alegre', 'dia_semana': 'Domingo', 'dia_numero': 20, 'mes': ' Maio ', 'ano': 2012, 'hora': '16:00', 'mandante': 'Internacional - RS', 'visitante': 'Coritiba - PR', 'gol_mandante': 2, 'gol_visitante': 0, 'vitoria_mandante': 1, 'vitoria_visitante': 0, 'jogo_empatado': 0, 'ponto_mandante': 3, 'ponto_visitante': 0}\n",
      "{'serie': 'A', 'temporada': 2012, 'estadio': 'São Januário', 'cidade': 'Rio de Janeiro', 'estado': 'RJ', 'dia_semana': 'Domingo', 'dia_numero': 20, 'mes': ' Maio ', 'ano': 2012, 'hora': '18:30', 'mandante': 'Vasco da Gama - RJ', 'visitante': 'Grêmio - RS', 'gol_mandante': 2, 'gol_visitante': 1, 'vitoria_mandante': 1, 'vitoria_visitante': 0, 'jogo_empatado': 0, 'ponto_mandante': 3, 'ponto_visitante': 0}\n",
      "{'serie': 'A', 'temporada': 2012, 'estadio': 'Pituaçu', 'cidade': 'Salvador', 'estado': 'BA', 'dia_semana': 'Domingo', 'dia_numero': 20, 'mes': ' Maio ', 'ano': 2012, 'hora': '18:30', 'mandante': 'Bahia - BA', 'visitante': 'Santos - SP', 'gol_mandante': 0, 'gol_visitante': 0, 'vitoria_mandante': 0, 'vitoria_visitante': 0, 'jogo_empatado': 1, 'ponto_mandante': 1, 'ponto_visitante': 1}\n",
      "{'serie': 'A', 'temporada': 2012, 'estadio': 'João Havelange', 'cidade': 'Uberlandia', 'estado': 'MG', 'dia_semana': 'Domingo', 'dia_numero': 20, 'mes': ' Maio ', 'ano': 2012, 'hora': '18:30', 'mandante': 'Cruzeiro - MG', 'visitante': 'Atlético - GO', 'gol_mandante': 0, 'gol_visitante': 0, 'vitoria_mandante': 0, 'vitoria_visitante': 0, 'jogo_empatado': 1, 'ponto_mandante': 1, 'ponto_visitante': 1}\n",
      "{'serie': 'A', 'temporada': 2012, 'estadio': 'Serra Dourada', 'cidade': 'Goiania', 'estado': 'GO', 'dia_semana': 'Sábado', 'dia_numero': 26, 'mes': ' Maio ', 'ano': 2012, 'hora': '18:30', 'mandante': 'Atlético - GO', 'visitante': 'Ponte Preta - SP', 'gol_mandante': 1, 'gol_visitante': 1, 'vitoria_mandante': 0, 'vitoria_visitante': 0, 'jogo_empatado': 1, 'ponto_mandante': 1, 'ponto_visitante': 1}\n",
      "{'serie': 'A', 'temporada': 2012, 'estadio': 'João Havelange', 'cidade': 'Rio de Janeiro', 'estado': 'RJ', 'dia_semana': 'Sábado', 'dia_numero': 26, 'mes': ' Maio ', 'ano': 2012, 'hora': '18:30', 'mandante': 'Flamengo - RJ', 'visitante': 'Internacional - RS', 'gol_mandante': 3, 'gol_visitante': 3, 'vitoria_mandante': 0, 'vitoria_visitante': 0, 'jogo_empatado': 1, 'ponto_mandante': 1, 'ponto_visitante': 1}\n",
      "{'serie': 'A', 'temporada': 2012, 'estadio': 'Canindé', 'cidade': 'Sao Paulo', 'estado': 'SP', 'dia_semana': 'Sábado', 'dia_numero': 26, 'mes': ' Maio ', 'ano': 2012, 'hora': '18:30', 'mandante': 'Portuguesa - SP', 'visitante': 'Vasco da Gama - RJ', 'gol_mandante': 0, 'gol_visitante': 1, 'vitoria_mandante': 0, 'vitoria_visitante': 1, 'jogo_empatado': 0, 'ponto_mandante': 0, 'ponto_visitante': 3}\n",
      "{'serie': 'A', 'temporada': 2012, 'estadio': 'Aflitos', 'cidade': 'Recife', 'estado': 'PE', 'dia_semana': 'Sábado', 'dia_numero': 26, 'mes': ' Maio ', 'ano': 2012, 'hora': '21:00', 'mandante': 'Náutico - PE', 'visitante': 'Cruzeiro - MG', 'gol_mandante': 0, 'gol_visitante': 0, 'vitoria_mandante': 0, 'vitoria_visitante': 0, 'jogo_empatado': 1, 'ponto_mandante': 1, 'ponto_visitante': 1}\n"
     ]
    },
    {
     "ename": "KeyboardInterrupt",
     "evalue": "",
     "output_type": "error",
     "traceback": [
      "\u001b[1;31m---------------------------------------------------------------------------\u001b[0m",
      "\u001b[1;31mKeyboardInterrupt\u001b[0m                         Traceback (most recent call last)",
      "\u001b[1;32m~\\AppData\\Local\\Temp\\ipykernel_12008\\3056911088.py\u001b[0m in \u001b[0;36m<module>\u001b[1;34m\u001b[0m\n\u001b[0;32m    112\u001b[0m   \u001b[1;32mfor\u001b[0m \u001b[0mlink_partida\u001b[0m \u001b[1;32min\u001b[0m \u001b[0mlista_link_jogo\u001b[0m\u001b[1;33m(\u001b[0m\u001b[0mlink_temporada\u001b[0m\u001b[1;33m)\u001b[0m\u001b[1;33m:\u001b[0m\u001b[1;33m\u001b[0m\u001b[1;33m\u001b[0m\u001b[0m\n\u001b[0;32m    113\u001b[0m     \u001b[0mprint\u001b[0m\u001b[1;33m(\u001b[0m\u001b[0mbusca_dado_partida\u001b[0m\u001b[1;33m(\u001b[0m\u001b[0mlink_partida\u001b[0m\u001b[1;33m)\u001b[0m\u001b[1;33m)\u001b[0m\u001b[1;33m\u001b[0m\u001b[1;33m\u001b[0m\u001b[0m\n\u001b[1;32m--> 114\u001b[1;33m     \u001b[0mdados\u001b[0m\u001b[1;33m.\u001b[0m\u001b[0mappend\u001b[0m\u001b[1;33m(\u001b[0m\u001b[0mbusca_dado_partida\u001b[0m\u001b[1;33m(\u001b[0m\u001b[0mlink_partida\u001b[0m\u001b[1;33m)\u001b[0m\u001b[1;33m)\u001b[0m\u001b[1;33m\u001b[0m\u001b[1;33m\u001b[0m\u001b[0m\n\u001b[0m\u001b[0;32m    115\u001b[0m \u001b[1;33m\u001b[0m\u001b[0m\n\u001b[0;32m    116\u001b[0m \u001b[1;31m#Salva os dados em um arquivo xlsx\u001b[0m\u001b[1;33m\u001b[0m\u001b[1;33m\u001b[0m\u001b[0m\n",
      "\u001b[1;32m~\\AppData\\Local\\Temp\\ipykernel_12008\\3056911088.py\u001b[0m in \u001b[0;36mbusca_dado_partida\u001b[1;34m(link_partida)\u001b[0m\n\u001b[0;32m     38\u001b[0m \u001b[1;31m#Cria metodo para buscar e salvas os dados requiridos\u001b[0m\u001b[1;33m\u001b[0m\u001b[1;33m\u001b[0m\u001b[0m\n\u001b[0;32m     39\u001b[0m \u001b[1;32mdef\u001b[0m \u001b[0mbusca_dado_partida\u001b[0m\u001b[1;33m(\u001b[0m\u001b[0mlink_partida\u001b[0m\u001b[1;33m)\u001b[0m\u001b[1;33m:\u001b[0m\u001b[1;33m\u001b[0m\u001b[1;33m\u001b[0m\u001b[0m\n\u001b[1;32m---> 40\u001b[1;33m   \u001b[0mreq\u001b[0m \u001b[1;33m=\u001b[0m \u001b[0mrequests\u001b[0m\u001b[1;33m.\u001b[0m\u001b[0mget\u001b[0m\u001b[1;33m(\u001b[0m\u001b[0mlink_partida\u001b[0m\u001b[1;33m)\u001b[0m\u001b[1;33m\u001b[0m\u001b[1;33m\u001b[0m\u001b[0m\n\u001b[0m\u001b[0;32m     41\u001b[0m \u001b[1;33m\u001b[0m\u001b[0m\n\u001b[0;32m     42\u001b[0m \u001b[1;33m\u001b[0m\u001b[0m\n",
      "\u001b[1;32m~\\AppData\\Roaming\\Python\\Python39\\site-packages\\requests\\api.py\u001b[0m in \u001b[0;36mget\u001b[1;34m(url, params, **kwargs)\u001b[0m\n\u001b[0;32m     71\u001b[0m     \"\"\"\n\u001b[0;32m     72\u001b[0m \u001b[1;33m\u001b[0m\u001b[0m\n\u001b[1;32m---> 73\u001b[1;33m     \u001b[1;32mreturn\u001b[0m \u001b[0mrequest\u001b[0m\u001b[1;33m(\u001b[0m\u001b[1;34m\"get\"\u001b[0m\u001b[1;33m,\u001b[0m \u001b[0murl\u001b[0m\u001b[1;33m,\u001b[0m \u001b[0mparams\u001b[0m\u001b[1;33m=\u001b[0m\u001b[0mparams\u001b[0m\u001b[1;33m,\u001b[0m \u001b[1;33m**\u001b[0m\u001b[0mkwargs\u001b[0m\u001b[1;33m)\u001b[0m\u001b[1;33m\u001b[0m\u001b[1;33m\u001b[0m\u001b[0m\n\u001b[0m\u001b[0;32m     74\u001b[0m \u001b[1;33m\u001b[0m\u001b[0m\n\u001b[0;32m     75\u001b[0m \u001b[1;33m\u001b[0m\u001b[0m\n",
      "\u001b[1;32m~\\AppData\\Roaming\\Python\\Python39\\site-packages\\requests\\api.py\u001b[0m in \u001b[0;36mrequest\u001b[1;34m(method, url, **kwargs)\u001b[0m\n\u001b[0;32m     57\u001b[0m     \u001b[1;31m# cases, and look like a memory leak in others.\u001b[0m\u001b[1;33m\u001b[0m\u001b[1;33m\u001b[0m\u001b[0m\n\u001b[0;32m     58\u001b[0m     \u001b[1;32mwith\u001b[0m \u001b[0msessions\u001b[0m\u001b[1;33m.\u001b[0m\u001b[0mSession\u001b[0m\u001b[1;33m(\u001b[0m\u001b[1;33m)\u001b[0m \u001b[1;32mas\u001b[0m \u001b[0msession\u001b[0m\u001b[1;33m:\u001b[0m\u001b[1;33m\u001b[0m\u001b[1;33m\u001b[0m\u001b[0m\n\u001b[1;32m---> 59\u001b[1;33m         \u001b[1;32mreturn\u001b[0m \u001b[0msession\u001b[0m\u001b[1;33m.\u001b[0m\u001b[0mrequest\u001b[0m\u001b[1;33m(\u001b[0m\u001b[0mmethod\u001b[0m\u001b[1;33m=\u001b[0m\u001b[0mmethod\u001b[0m\u001b[1;33m,\u001b[0m \u001b[0murl\u001b[0m\u001b[1;33m=\u001b[0m\u001b[0murl\u001b[0m\u001b[1;33m,\u001b[0m \u001b[1;33m**\u001b[0m\u001b[0mkwargs\u001b[0m\u001b[1;33m)\u001b[0m\u001b[1;33m\u001b[0m\u001b[1;33m\u001b[0m\u001b[0m\n\u001b[0m\u001b[0;32m     60\u001b[0m \u001b[1;33m\u001b[0m\u001b[0m\n\u001b[0;32m     61\u001b[0m \u001b[1;33m\u001b[0m\u001b[0m\n",
      "\u001b[1;32m~\\AppData\\Roaming\\Python\\Python39\\site-packages\\requests\\sessions.py\u001b[0m in \u001b[0;36mrequest\u001b[1;34m(self, method, url, params, data, headers, cookies, files, auth, timeout, allow_redirects, proxies, hooks, stream, verify, cert, json)\u001b[0m\n\u001b[0;32m    585\u001b[0m         }\n\u001b[0;32m    586\u001b[0m         \u001b[0msend_kwargs\u001b[0m\u001b[1;33m.\u001b[0m\u001b[0mupdate\u001b[0m\u001b[1;33m(\u001b[0m\u001b[0msettings\u001b[0m\u001b[1;33m)\u001b[0m\u001b[1;33m\u001b[0m\u001b[1;33m\u001b[0m\u001b[0m\n\u001b[1;32m--> 587\u001b[1;33m         \u001b[0mresp\u001b[0m \u001b[1;33m=\u001b[0m \u001b[0mself\u001b[0m\u001b[1;33m.\u001b[0m\u001b[0msend\u001b[0m\u001b[1;33m(\u001b[0m\u001b[0mprep\u001b[0m\u001b[1;33m,\u001b[0m \u001b[1;33m**\u001b[0m\u001b[0msend_kwargs\u001b[0m\u001b[1;33m)\u001b[0m\u001b[1;33m\u001b[0m\u001b[1;33m\u001b[0m\u001b[0m\n\u001b[0m\u001b[0;32m    588\u001b[0m \u001b[1;33m\u001b[0m\u001b[0m\n\u001b[0;32m    589\u001b[0m         \u001b[1;32mreturn\u001b[0m \u001b[0mresp\u001b[0m\u001b[1;33m\u001b[0m\u001b[1;33m\u001b[0m\u001b[0m\n",
      "\u001b[1;32m~\\AppData\\Roaming\\Python\\Python39\\site-packages\\requests\\sessions.py\u001b[0m in \u001b[0;36msend\u001b[1;34m(self, request, **kwargs)\u001b[0m\n\u001b[0;32m    699\u001b[0m \u001b[1;33m\u001b[0m\u001b[0m\n\u001b[0;32m    700\u001b[0m         \u001b[1;31m# Send the request\u001b[0m\u001b[1;33m\u001b[0m\u001b[1;33m\u001b[0m\u001b[0m\n\u001b[1;32m--> 701\u001b[1;33m         \u001b[0mr\u001b[0m \u001b[1;33m=\u001b[0m \u001b[0madapter\u001b[0m\u001b[1;33m.\u001b[0m\u001b[0msend\u001b[0m\u001b[1;33m(\u001b[0m\u001b[0mrequest\u001b[0m\u001b[1;33m,\u001b[0m \u001b[1;33m**\u001b[0m\u001b[0mkwargs\u001b[0m\u001b[1;33m)\u001b[0m\u001b[1;33m\u001b[0m\u001b[1;33m\u001b[0m\u001b[0m\n\u001b[0m\u001b[0;32m    702\u001b[0m \u001b[1;33m\u001b[0m\u001b[0m\n\u001b[0;32m    703\u001b[0m         \u001b[1;31m# Total elapsed time of the request (approximately)\u001b[0m\u001b[1;33m\u001b[0m\u001b[1;33m\u001b[0m\u001b[0m\n",
      "\u001b[1;32m~\\AppData\\Roaming\\Python\\Python39\\site-packages\\requests\\adapters.py\u001b[0m in \u001b[0;36msend\u001b[1;34m(self, request, stream, timeout, verify, cert, proxies)\u001b[0m\n\u001b[0;32m    487\u001b[0m         \u001b[1;32mtry\u001b[0m\u001b[1;33m:\u001b[0m\u001b[1;33m\u001b[0m\u001b[1;33m\u001b[0m\u001b[0m\n\u001b[0;32m    488\u001b[0m             \u001b[1;32mif\u001b[0m \u001b[1;32mnot\u001b[0m \u001b[0mchunked\u001b[0m\u001b[1;33m:\u001b[0m\u001b[1;33m\u001b[0m\u001b[1;33m\u001b[0m\u001b[0m\n\u001b[1;32m--> 489\u001b[1;33m                 resp = conn.urlopen(\n\u001b[0m\u001b[0;32m    490\u001b[0m                     \u001b[0mmethod\u001b[0m\u001b[1;33m=\u001b[0m\u001b[0mrequest\u001b[0m\u001b[1;33m.\u001b[0m\u001b[0mmethod\u001b[0m\u001b[1;33m,\u001b[0m\u001b[1;33m\u001b[0m\u001b[1;33m\u001b[0m\u001b[0m\n\u001b[0;32m    491\u001b[0m                     \u001b[0murl\u001b[0m\u001b[1;33m=\u001b[0m\u001b[0murl\u001b[0m\u001b[1;33m,\u001b[0m\u001b[1;33m\u001b[0m\u001b[1;33m\u001b[0m\u001b[0m\n",
      "\u001b[1;32m~\\AppData\\Roaming\\Python\\Python39\\site-packages\\urllib3\\connectionpool.py\u001b[0m in \u001b[0;36murlopen\u001b[1;34m(self, method, url, body, headers, retries, redirect, assert_same_host, timeout, pool_timeout, release_conn, chunked, body_pos, **response_kw)\u001b[0m\n\u001b[0;32m    701\u001b[0m \u001b[1;33m\u001b[0m\u001b[0m\n\u001b[0;32m    702\u001b[0m             \u001b[1;31m# Make the request on the httplib connection object.\u001b[0m\u001b[1;33m\u001b[0m\u001b[1;33m\u001b[0m\u001b[0m\n\u001b[1;32m--> 703\u001b[1;33m             httplib_response = self._make_request(\n\u001b[0m\u001b[0;32m    704\u001b[0m                 \u001b[0mconn\u001b[0m\u001b[1;33m,\u001b[0m\u001b[1;33m\u001b[0m\u001b[1;33m\u001b[0m\u001b[0m\n\u001b[0;32m    705\u001b[0m                 \u001b[0mmethod\u001b[0m\u001b[1;33m,\u001b[0m\u001b[1;33m\u001b[0m\u001b[1;33m\u001b[0m\u001b[0m\n",
      "\u001b[1;32m~\\AppData\\Roaming\\Python\\Python39\\site-packages\\urllib3\\connectionpool.py\u001b[0m in \u001b[0;36m_make_request\u001b[1;34m(self, conn, method, url, timeout, chunked, **httplib_request_kw)\u001b[0m\n\u001b[0;32m    447\u001b[0m                     \u001b[1;31m# Python 3 (including for exceptions like SystemExit).\u001b[0m\u001b[1;33m\u001b[0m\u001b[1;33m\u001b[0m\u001b[0m\n\u001b[0;32m    448\u001b[0m                     \u001b[1;31m# Otherwise it looks like a bug in the code.\u001b[0m\u001b[1;33m\u001b[0m\u001b[1;33m\u001b[0m\u001b[0m\n\u001b[1;32m--> 449\u001b[1;33m                     \u001b[0msix\u001b[0m\u001b[1;33m.\u001b[0m\u001b[0mraise_from\u001b[0m\u001b[1;33m(\u001b[0m\u001b[0me\u001b[0m\u001b[1;33m,\u001b[0m \u001b[1;32mNone\u001b[0m\u001b[1;33m)\u001b[0m\u001b[1;33m\u001b[0m\u001b[1;33m\u001b[0m\u001b[0m\n\u001b[0m\u001b[0;32m    450\u001b[0m         \u001b[1;32mexcept\u001b[0m \u001b[1;33m(\u001b[0m\u001b[0mSocketTimeout\u001b[0m\u001b[1;33m,\u001b[0m \u001b[0mBaseSSLError\u001b[0m\u001b[1;33m,\u001b[0m \u001b[0mSocketError\u001b[0m\u001b[1;33m)\u001b[0m \u001b[1;32mas\u001b[0m \u001b[0me\u001b[0m\u001b[1;33m:\u001b[0m\u001b[1;33m\u001b[0m\u001b[1;33m\u001b[0m\u001b[0m\n\u001b[0;32m    451\u001b[0m             \u001b[0mself\u001b[0m\u001b[1;33m.\u001b[0m\u001b[0m_raise_timeout\u001b[0m\u001b[1;33m(\u001b[0m\u001b[0merr\u001b[0m\u001b[1;33m=\u001b[0m\u001b[0me\u001b[0m\u001b[1;33m,\u001b[0m \u001b[0murl\u001b[0m\u001b[1;33m=\u001b[0m\u001b[0murl\u001b[0m\u001b[1;33m,\u001b[0m \u001b[0mtimeout_value\u001b[0m\u001b[1;33m=\u001b[0m\u001b[0mread_timeout\u001b[0m\u001b[1;33m)\u001b[0m\u001b[1;33m\u001b[0m\u001b[1;33m\u001b[0m\u001b[0m\n",
      "\u001b[1;32m~\\AppData\\Roaming\\Python\\Python39\\site-packages\\urllib3\\packages\\six.py\u001b[0m in \u001b[0;36mraise_from\u001b[1;34m(value, from_value)\u001b[0m\n",
      "\u001b[1;32m~\\AppData\\Roaming\\Python\\Python39\\site-packages\\urllib3\\connectionpool.py\u001b[0m in \u001b[0;36m_make_request\u001b[1;34m(self, conn, method, url, timeout, chunked, **httplib_request_kw)\u001b[0m\n\u001b[0;32m    442\u001b[0m                 \u001b[1;31m# Python 3\u001b[0m\u001b[1;33m\u001b[0m\u001b[1;33m\u001b[0m\u001b[0m\n\u001b[0;32m    443\u001b[0m                 \u001b[1;32mtry\u001b[0m\u001b[1;33m:\u001b[0m\u001b[1;33m\u001b[0m\u001b[1;33m\u001b[0m\u001b[0m\n\u001b[1;32m--> 444\u001b[1;33m                     \u001b[0mhttplib_response\u001b[0m \u001b[1;33m=\u001b[0m \u001b[0mconn\u001b[0m\u001b[1;33m.\u001b[0m\u001b[0mgetresponse\u001b[0m\u001b[1;33m(\u001b[0m\u001b[1;33m)\u001b[0m\u001b[1;33m\u001b[0m\u001b[1;33m\u001b[0m\u001b[0m\n\u001b[0m\u001b[0;32m    445\u001b[0m                 \u001b[1;32mexcept\u001b[0m \u001b[0mBaseException\u001b[0m \u001b[1;32mas\u001b[0m \u001b[0me\u001b[0m\u001b[1;33m:\u001b[0m\u001b[1;33m\u001b[0m\u001b[1;33m\u001b[0m\u001b[0m\n\u001b[0;32m    446\u001b[0m                     \u001b[1;31m# Remove the TypeError from the exception chain in\u001b[0m\u001b[1;33m\u001b[0m\u001b[1;33m\u001b[0m\u001b[0m\n",
      "\u001b[1;32mC:\\ProgramData\\Anaconda3\\lib\\http\\client.py\u001b[0m in \u001b[0;36mgetresponse\u001b[1;34m(self)\u001b[0m\n\u001b[0;32m   1375\u001b[0m         \u001b[1;32mtry\u001b[0m\u001b[1;33m:\u001b[0m\u001b[1;33m\u001b[0m\u001b[1;33m\u001b[0m\u001b[0m\n\u001b[0;32m   1376\u001b[0m             \u001b[1;32mtry\u001b[0m\u001b[1;33m:\u001b[0m\u001b[1;33m\u001b[0m\u001b[1;33m\u001b[0m\u001b[0m\n\u001b[1;32m-> 1377\u001b[1;33m                 \u001b[0mresponse\u001b[0m\u001b[1;33m.\u001b[0m\u001b[0mbegin\u001b[0m\u001b[1;33m(\u001b[0m\u001b[1;33m)\u001b[0m\u001b[1;33m\u001b[0m\u001b[1;33m\u001b[0m\u001b[0m\n\u001b[0m\u001b[0;32m   1378\u001b[0m             \u001b[1;32mexcept\u001b[0m \u001b[0mConnectionError\u001b[0m\u001b[1;33m:\u001b[0m\u001b[1;33m\u001b[0m\u001b[1;33m\u001b[0m\u001b[0m\n\u001b[0;32m   1379\u001b[0m                 \u001b[0mself\u001b[0m\u001b[1;33m.\u001b[0m\u001b[0mclose\u001b[0m\u001b[1;33m(\u001b[0m\u001b[1;33m)\u001b[0m\u001b[1;33m\u001b[0m\u001b[1;33m\u001b[0m\u001b[0m\n",
      "\u001b[1;32mC:\\ProgramData\\Anaconda3\\lib\\http\\client.py\u001b[0m in \u001b[0;36mbegin\u001b[1;34m(self)\u001b[0m\n\u001b[0;32m    318\u001b[0m         \u001b[1;31m# read until we get a non-100 response\u001b[0m\u001b[1;33m\u001b[0m\u001b[1;33m\u001b[0m\u001b[0m\n\u001b[0;32m    319\u001b[0m         \u001b[1;32mwhile\u001b[0m \u001b[1;32mTrue\u001b[0m\u001b[1;33m:\u001b[0m\u001b[1;33m\u001b[0m\u001b[1;33m\u001b[0m\u001b[0m\n\u001b[1;32m--> 320\u001b[1;33m             \u001b[0mversion\u001b[0m\u001b[1;33m,\u001b[0m \u001b[0mstatus\u001b[0m\u001b[1;33m,\u001b[0m \u001b[0mreason\u001b[0m \u001b[1;33m=\u001b[0m \u001b[0mself\u001b[0m\u001b[1;33m.\u001b[0m\u001b[0m_read_status\u001b[0m\u001b[1;33m(\u001b[0m\u001b[1;33m)\u001b[0m\u001b[1;33m\u001b[0m\u001b[1;33m\u001b[0m\u001b[0m\n\u001b[0m\u001b[0;32m    321\u001b[0m             \u001b[1;32mif\u001b[0m \u001b[0mstatus\u001b[0m \u001b[1;33m!=\u001b[0m \u001b[0mCONTINUE\u001b[0m\u001b[1;33m:\u001b[0m\u001b[1;33m\u001b[0m\u001b[1;33m\u001b[0m\u001b[0m\n\u001b[0;32m    322\u001b[0m                 \u001b[1;32mbreak\u001b[0m\u001b[1;33m\u001b[0m\u001b[1;33m\u001b[0m\u001b[0m\n",
      "\u001b[1;32mC:\\ProgramData\\Anaconda3\\lib\\http\\client.py\u001b[0m in \u001b[0;36m_read_status\u001b[1;34m(self)\u001b[0m\n\u001b[0;32m    279\u001b[0m \u001b[1;33m\u001b[0m\u001b[0m\n\u001b[0;32m    280\u001b[0m     \u001b[1;32mdef\u001b[0m \u001b[0m_read_status\u001b[0m\u001b[1;33m(\u001b[0m\u001b[0mself\u001b[0m\u001b[1;33m)\u001b[0m\u001b[1;33m:\u001b[0m\u001b[1;33m\u001b[0m\u001b[1;33m\u001b[0m\u001b[0m\n\u001b[1;32m--> 281\u001b[1;33m         \u001b[0mline\u001b[0m \u001b[1;33m=\u001b[0m \u001b[0mstr\u001b[0m\u001b[1;33m(\u001b[0m\u001b[0mself\u001b[0m\u001b[1;33m.\u001b[0m\u001b[0mfp\u001b[0m\u001b[1;33m.\u001b[0m\u001b[0mreadline\u001b[0m\u001b[1;33m(\u001b[0m\u001b[0m_MAXLINE\u001b[0m \u001b[1;33m+\u001b[0m \u001b[1;36m1\u001b[0m\u001b[1;33m)\u001b[0m\u001b[1;33m,\u001b[0m \u001b[1;34m\"iso-8859-1\"\u001b[0m\u001b[1;33m)\u001b[0m\u001b[1;33m\u001b[0m\u001b[1;33m\u001b[0m\u001b[0m\n\u001b[0m\u001b[0;32m    282\u001b[0m         \u001b[1;32mif\u001b[0m \u001b[0mlen\u001b[0m\u001b[1;33m(\u001b[0m\u001b[0mline\u001b[0m\u001b[1;33m)\u001b[0m \u001b[1;33m>\u001b[0m \u001b[0m_MAXLINE\u001b[0m\u001b[1;33m:\u001b[0m\u001b[1;33m\u001b[0m\u001b[1;33m\u001b[0m\u001b[0m\n\u001b[0;32m    283\u001b[0m             \u001b[1;32mraise\u001b[0m \u001b[0mLineTooLong\u001b[0m\u001b[1;33m(\u001b[0m\u001b[1;34m\"status line\"\u001b[0m\u001b[1;33m)\u001b[0m\u001b[1;33m\u001b[0m\u001b[1;33m\u001b[0m\u001b[0m\n",
      "\u001b[1;32mC:\\ProgramData\\Anaconda3\\lib\\socket.py\u001b[0m in \u001b[0;36mreadinto\u001b[1;34m(self, b)\u001b[0m\n\u001b[0;32m    702\u001b[0m         \u001b[1;32mwhile\u001b[0m \u001b[1;32mTrue\u001b[0m\u001b[1;33m:\u001b[0m\u001b[1;33m\u001b[0m\u001b[1;33m\u001b[0m\u001b[0m\n\u001b[0;32m    703\u001b[0m             \u001b[1;32mtry\u001b[0m\u001b[1;33m:\u001b[0m\u001b[1;33m\u001b[0m\u001b[1;33m\u001b[0m\u001b[0m\n\u001b[1;32m--> 704\u001b[1;33m                 \u001b[1;32mreturn\u001b[0m \u001b[0mself\u001b[0m\u001b[1;33m.\u001b[0m\u001b[0m_sock\u001b[0m\u001b[1;33m.\u001b[0m\u001b[0mrecv_into\u001b[0m\u001b[1;33m(\u001b[0m\u001b[0mb\u001b[0m\u001b[1;33m)\u001b[0m\u001b[1;33m\u001b[0m\u001b[1;33m\u001b[0m\u001b[0m\n\u001b[0m\u001b[0;32m    705\u001b[0m             \u001b[1;32mexcept\u001b[0m \u001b[0mtimeout\u001b[0m\u001b[1;33m:\u001b[0m\u001b[1;33m\u001b[0m\u001b[1;33m\u001b[0m\u001b[0m\n\u001b[0;32m    706\u001b[0m                 \u001b[0mself\u001b[0m\u001b[1;33m.\u001b[0m\u001b[0m_timeout_occurred\u001b[0m \u001b[1;33m=\u001b[0m \u001b[1;32mTrue\u001b[0m\u001b[1;33m\u001b[0m\u001b[1;33m\u001b[0m\u001b[0m\n",
      "\u001b[1;32mC:\\ProgramData\\Anaconda3\\lib\\ssl.py\u001b[0m in \u001b[0;36mrecv_into\u001b[1;34m(self, buffer, nbytes, flags)\u001b[0m\n\u001b[0;32m   1240\u001b[0m                   \u001b[1;34m\"non-zero flags not allowed in calls to recv_into() on %s\"\u001b[0m \u001b[1;33m%\u001b[0m\u001b[1;33m\u001b[0m\u001b[1;33m\u001b[0m\u001b[0m\n\u001b[0;32m   1241\u001b[0m                   self.__class__)\n\u001b[1;32m-> 1242\u001b[1;33m             \u001b[1;32mreturn\u001b[0m \u001b[0mself\u001b[0m\u001b[1;33m.\u001b[0m\u001b[0mread\u001b[0m\u001b[1;33m(\u001b[0m\u001b[0mnbytes\u001b[0m\u001b[1;33m,\u001b[0m \u001b[0mbuffer\u001b[0m\u001b[1;33m)\u001b[0m\u001b[1;33m\u001b[0m\u001b[1;33m\u001b[0m\u001b[0m\n\u001b[0m\u001b[0;32m   1243\u001b[0m         \u001b[1;32melse\u001b[0m\u001b[1;33m:\u001b[0m\u001b[1;33m\u001b[0m\u001b[1;33m\u001b[0m\u001b[0m\n\u001b[0;32m   1244\u001b[0m             \u001b[1;32mreturn\u001b[0m \u001b[0msuper\u001b[0m\u001b[1;33m(\u001b[0m\u001b[1;33m)\u001b[0m\u001b[1;33m.\u001b[0m\u001b[0mrecv_into\u001b[0m\u001b[1;33m(\u001b[0m\u001b[0mbuffer\u001b[0m\u001b[1;33m,\u001b[0m \u001b[0mnbytes\u001b[0m\u001b[1;33m,\u001b[0m \u001b[0mflags\u001b[0m\u001b[1;33m)\u001b[0m\u001b[1;33m\u001b[0m\u001b[1;33m\u001b[0m\u001b[0m\n",
      "\u001b[1;32mC:\\ProgramData\\Anaconda3\\lib\\ssl.py\u001b[0m in \u001b[0;36mread\u001b[1;34m(self, len, buffer)\u001b[0m\n\u001b[0;32m   1098\u001b[0m         \u001b[1;32mtry\u001b[0m\u001b[1;33m:\u001b[0m\u001b[1;33m\u001b[0m\u001b[1;33m\u001b[0m\u001b[0m\n\u001b[0;32m   1099\u001b[0m             \u001b[1;32mif\u001b[0m \u001b[0mbuffer\u001b[0m \u001b[1;32mis\u001b[0m \u001b[1;32mnot\u001b[0m \u001b[1;32mNone\u001b[0m\u001b[1;33m:\u001b[0m\u001b[1;33m\u001b[0m\u001b[1;33m\u001b[0m\u001b[0m\n\u001b[1;32m-> 1100\u001b[1;33m                 \u001b[1;32mreturn\u001b[0m \u001b[0mself\u001b[0m\u001b[1;33m.\u001b[0m\u001b[0m_sslobj\u001b[0m\u001b[1;33m.\u001b[0m\u001b[0mread\u001b[0m\u001b[1;33m(\u001b[0m\u001b[0mlen\u001b[0m\u001b[1;33m,\u001b[0m \u001b[0mbuffer\u001b[0m\u001b[1;33m)\u001b[0m\u001b[1;33m\u001b[0m\u001b[1;33m\u001b[0m\u001b[0m\n\u001b[0m\u001b[0;32m   1101\u001b[0m             \u001b[1;32melse\u001b[0m\u001b[1;33m:\u001b[0m\u001b[1;33m\u001b[0m\u001b[1;33m\u001b[0m\u001b[0m\n\u001b[0;32m   1102\u001b[0m                 \u001b[1;32mreturn\u001b[0m \u001b[0mself\u001b[0m\u001b[1;33m.\u001b[0m\u001b[0m_sslobj\u001b[0m\u001b[1;33m.\u001b[0m\u001b[0mread\u001b[0m\u001b[1;33m(\u001b[0m\u001b[0mlen\u001b[0m\u001b[1;33m)\u001b[0m\u001b[1;33m\u001b[0m\u001b[1;33m\u001b[0m\u001b[0m\n",
      "\u001b[1;31mKeyboardInterrupt\u001b[0m: "
     ]
    }
   ],
   "source": [
    "#importa os pacotes necessarios\n",
    "import requests\n",
    "from bs4 import BeautifulSoup\n",
    "import pandas as pd\n",
    "\n",
    "#Cria metodo para listar as temporadas que existe no site\n",
    "def lista_temporada(url_serie):\n",
    "  url_base = url_serie\n",
    "  req = requests.get(url_base)\n",
    "\n",
    "\n",
    "  soup = BeautifulSoup(req.text, 'html.parser')\n",
    "  lista_temporada_anos = []\n",
    "\n",
    "\n",
    "  for a in soup.find_all('option'):\n",
    "    lista_temporada_anos.append(url_base+a.get_text('Value'))\n",
    "  \n",
    "  return sorted(lista_temporada_anos)\n",
    "\n",
    "#Cria metodo para listar os links de cada jogo\n",
    "def lista_link_jogo(link_temporada):\n",
    "  url_base = link_temporada\n",
    "  req = requests.get(url_base)\n",
    "\n",
    "\n",
    "  soup = BeautifulSoup(req.text, 'html.parser')\n",
    "  lista_link_jogo = []\n",
    "\n",
    "\n",
    "  link_jogo = soup.find_all(class_ ='btn btn-xs btn-success m-t-5')\n",
    "  for link in link_jogo:\n",
    "    lista_link_jogo.append(link['href'])\n",
    "\n",
    "\n",
    "  return lista_link_jogo\n",
    "\n",
    "#Cria metodo para buscar e salvas os dados requiridos\n",
    "def busca_dado_partida(link_partida):\n",
    "  req = requests.get(link_partida)\n",
    "\n",
    "\n",
    "  soup = BeautifulSoup(req.text, 'html.parser')\n",
    "\n",
    "\n",
    "  serie = soup.find(class_ = 'color-white block').text.split('-')[1].strip().split(' ')[1]\n",
    "  temporada = int(soup.find(class_ = 'color-white block').text.split('-')[2].strip()) \n",
    "  estadio = soup.find_all(class_ = 'text-2 p-r-20')[0].text.split('-')[0].strip() \n",
    "  cidade = soup.find_all(class_ = 'text-2 p-r-20')[0].text.split('-')[1].strip()\n",
    "  estado = soup.find_all(class_ = 'text-2 p-r-20')[0].text.split('-')[2].strip()\n",
    "  dia_semana = soup.find_all(class_ = 'text-2 p-r-20')[1].text.split(',')[0].strip()\n",
    "  dia_numero = int(soup.find_all(class_ = 'text-2 p-r-20')[1].text.split(',')[1].strip().split(' ')[0])\n",
    "  mes = soup.find_all(class_ = 'text-2 p-r-20')[1].text.split(',')[1].strip().split('de')[1]\n",
    "  ano = int(soup.find_all(class_ = 'text-2 p-r-20')[1].text.split(',')[1].strip().split('de')[2]) \n",
    "  hora = soup.find_all(class_ = 'text-2 p-r-20')[2].text.strip()\n",
    "  mandante = soup.find_all(class_ = 'time-nome color-white')[0].text.strip()\n",
    "  visitante = soup.find_all(class_ = 'time-nome color-white')[1].text.strip() \n",
    "  gol_mandante = int(soup.find_all(class_ = 'time-gols block')[0].text.strip())\n",
    "  gol_visitante = int(soup.find_all(class_ = 'time-gols block')[1].text.strip())\n",
    "\n",
    "\n",
    "  if gol_mandante > gol_visitante:\n",
    "    vitoria_mandante = 1\n",
    "    vitoria_visitante = 0\n",
    "    jogo_empatado = 0\n",
    "    ponto_mandante = 3\n",
    "    ponto_visitante = 0\n",
    "  if gol_mandante < gol_visitante:\n",
    "    vitoria_mandante = 0\n",
    "    vitoria_visitante = 1\n",
    "    jogo_empatado = 0\n",
    "    ponto_mandante = 0\n",
    "    ponto_visitante = 3\n",
    "  if gol_mandante == gol_visitante:\n",
    "    vitoria_mandante = 0\n",
    "    vitoria_visitante = 0\n",
    "    jogo_empatado = 1\n",
    "    ponto_mandante = 1\n",
    "    ponto_visitante = 1\n",
    "\n",
    "\n",
    "  # Cria um dicionario para estruturar os dados\n",
    "  partida = {\n",
    "      'serie' : serie,\n",
    "      'temporada' : temporada,\n",
    "      'estadio' : estadio,\n",
    "      'cidade' : cidade,\n",
    "      'estado' : estado,\n",
    "      'dia_semana' : dia_semana,\n",
    "      'dia_numero' : dia_numero,\n",
    "      'mes' : mes,\n",
    "      'ano' : ano,\n",
    "      'hora' : hora,\n",
    "      'mandante' : mandante,\n",
    "      'visitante' : visitante,\n",
    "      'gol_mandante' : gol_mandante,\n",
    "      'gol_visitante' : gol_visitante,\n",
    "      'vitoria_mandante' : vitoria_mandante,\n",
    "      'vitoria_visitante' : vitoria_visitante,\n",
    "      'jogo_empatado' : jogo_empatado,\n",
    "      'ponto_mandante' : ponto_mandante,\n",
    "      'ponto_visitante' : ponto_visitante\n",
    "  }\n",
    "  return(partida)\n",
    "\n",
    "# Executa todos os metodos criados para extração\n",
    "url_serie = 'https://www.cbf.com.br/futebol-brasileiro/competicoes/campeonato-brasileiro-serie-a/'\n",
    "dados = []\n",
    "\n",
    "for link_temporada in lista_temporada(url_serie):\n",
    "  print(link_temporada)\n",
    "  for link_partida in lista_link_jogo(link_temporada):\n",
    "    print(busca_dado_partida(link_partida))\n",
    "    dados.append(busca_dado_partida(link_partida))\n",
    "    \n",
    "#Salva os dados em um arquivo xlsx\n",
    "df = pd.DataFrame.from_dict(dados)\n",
    "df.to_excel('Dados Serie A.xlsx')"
   ]
  },
  {
   "cell_type": "code",
   "execution_count": 2,
   "id": "936ffe52",
   "metadata": {},
   "outputs": [],
   "source": [
    "#importando pacote pandas#\n",
    "\n",
    "import pandas as pd\n",
    "pd.__version__\n",
    "dataframe = pd.read_excel('Dados Serie A.xlsx',index_col=0,header=0)"
   ]
  },
  {
   "cell_type": "code",
   "execution_count": 3,
   "id": "9f81a78a",
   "metadata": {},
   "outputs": [
    {
     "data": {
      "text/plain": [
       "['America - MG',\n",
       " 'America Fc - MG',\n",
       " 'América - MG',\n",
       " 'América Fc Saf - MG',\n",
       " 'Athletico Paranaense - PR',\n",
       " 'Atletico - PR',\n",
       " 'Atlético - GO',\n",
       " 'Atlético - MG',\n",
       " 'Atlético - PR',\n",
       " 'Atlético Mineiro - MG',\n",
       " 'Atlético Paranaense - PR',\n",
       " 'Avaí - SC',\n",
       " 'Bahia - BA',\n",
       " 'Botafogo - RJ',\n",
       " 'Ceará - CE',\n",
       " 'Chapecoense - SC',\n",
       " 'Corinthians - SP',\n",
       " 'Coritiba - PR',\n",
       " 'Criciuma - SC',\n",
       " 'Cruzeiro - MG',\n",
       " 'Csa - AL',\n",
       " 'Cuiabá - MT',\n",
       " 'Cuiabá Saf - MT',\n",
       " 'Figueirense - SC',\n",
       " 'Flamengo - RJ',\n",
       " 'Fluminense - RJ',\n",
       " 'Fortaleza - CE',\n",
       " 'Goiás - GO',\n",
       " 'Grêmio - RS',\n",
       " 'Internacional - RS',\n",
       " 'Joinville - SC',\n",
       " 'Juventude - RS',\n",
       " 'Náutico - PE',\n",
       " 'Palmeiras - SP',\n",
       " 'Paraná - PR',\n",
       " 'Ponte Preta - SP',\n",
       " 'Portuguesa - SP',\n",
       " 'Red Bull Bragantino - SP',\n",
       " 'Santa Cruz - PE',\n",
       " 'Santos - SP',\n",
       " 'Sport - PE',\n",
       " 'São Paulo - SP',\n",
       " 'Vasco da Gama - RJ',\n",
       " 'Vitória - BA']"
      ]
     },
     "execution_count": 3,
     "metadata": {},
     "output_type": "execute_result"
    }
   ],
   "source": [
    "Clubes = dataframe['mandante'].unique()\n",
    "ClubesList = Clubes.tolist()\n",
    "ClubesOrder = sorted(ClubesList)\n",
    "ClubesOrder"
   ]
  },
  {
   "cell_type": "code",
   "execution_count": null,
   "id": "dedb4b34",
   "metadata": {},
   "outputs": [],
   "source": [
    "dataframe.loc[dataframe['mandante'] == 'America Fc - MG' , 'mandante'] = 'América - MG'\n",
    "dataframe.loc[dataframe['mandante'] == 'America - MG' , 'mandante'] = 'América - MG'\n",
    "dataframe.loc[dataframe['mandante'] == 'America Fc - MG' , 'mandante'] = 'América - MG'\n",
    "dataframe.loc[dataframe['mandante'] == 'América Fc Saf - MG' , 'mandante'] = 'América - MG'\n",
    "dataframe.loc[dataframe['mandante'] == 'Atletico - PR' , 'mandante'] = 'Athletico Paranaense - PR'\n",
    "dataframe.loc[dataframe['mandante'] == 'Atlético Paranaense - PR' , 'mandante'] = 'Athletico Paranaense - PR'\n",
    "dataframe.loc[dataframe['mandante'] == 'Atlético - PR' , 'mandante'] = 'Athletico Paranaense - PR'\n",
    "dataframe.loc[dataframe['mandante'] == 'Atlético Mineiro - MG' , 'mandante'] = 'Atlético - MG'\n",
    "dataframe.loc[dataframe['mandante'] == 'Cuiabá Saf - MT' , 'mandante'] = 'Cuiabá - MT'"
   ]
  },
  {
   "cell_type": "code",
   "execution_count": null,
   "id": "0ed3eedc",
   "metadata": {},
   "outputs": [],
   "source": [
    "Clubes = dataframe['mandante'].unique()\n",
    "ClubesList = Clubes.tolist()\n",
    "ClubesOrder = sorted(ClubesList)\n",
    "ClubesOrder"
   ]
  },
  {
   "cell_type": "code",
   "execution_count": null,
   "id": "4aeb14b9",
   "metadata": {},
   "outputs": [],
   "source": [
    "dataframe.to_excel('Brasileirão Série A.xlsx')"
   ]
  },
  {
   "cell_type": "code",
   "execution_count": null,
   "id": "9b944924",
   "metadata": {},
   "outputs": [],
   "source": [
    "dataframe.loc[dataframe['visitante'] == 'America Fc - MG' , 'visitante'] = 'América - MG'\n",
    "dataframe.loc[dataframe['visitante'] == 'America - MG' , 'visitante'] = 'América - MG'\n",
    "dataframe.loc[dataframe['visitante'] == 'America Fc - MG' , 'visitante'] = 'América - MG'\n",
    "dataframe.loc[dataframe['visitante'] == 'América Fc Saf - MG' , 'visitante'] = 'América - MG'\n",
    "dataframe.loc[dataframe['visitante'] == 'Atletico - PR' , 'visitante'] = 'Athletico Paranaense - PR'\n",
    "dataframe.loc[dataframe['visitante'] == 'Atlético Paranaense - PR' , 'visitante'] = 'Athletico Paranaense - PR'\n",
    "dataframe.loc[dataframe['visitante'] == 'Atlético - PR' , 'visitante'] = 'Athletico Paranaense - PR'\n",
    "dataframe.loc[dataframe['visitante'] == 'Atlético Mineiro - MG' , 'visitante'] = 'Atlético - MG'\n",
    "dataframe.loc[dataframe['visitante'] == 'Cuiabá Saf - MT' , 'visitante'] = 'Cuiabá - MT'"
   ]
  },
  {
   "cell_type": "code",
   "execution_count": null,
   "id": "0310d4c9",
   "metadata": {},
   "outputs": [],
   "source": [
    "dataframe.to_excel('Campeonato Brasileiro Serie A.xlsx')"
   ]
  },
  {
   "cell_type": "code",
   "execution_count": null,
   "id": "13cb0cac",
   "metadata": {},
   "outputs": [],
   "source": [
    "dataframe.isnull().sum()"
   ]
  },
  {
   "cell_type": "code",
   "execution_count": null,
   "id": "106a1682",
   "metadata": {},
   "outputs": [],
   "source": [
    "dataframe.dtypes"
   ]
  },
  {
   "cell_type": "code",
   "execution_count": null,
   "id": "4cb00e2f",
   "metadata": {},
   "outputs": [],
   "source": [
    "dataframe.describe()"
   ]
  },
  {
   "cell_type": "code",
   "execution_count": null,
   "id": "d26bf654",
   "metadata": {},
   "outputs": [],
   "source": [
    "dataframe['total_gols'] = dataframe['gol_visitante'] + dataframe['gol_mandante']"
   ]
  },
  {
   "cell_type": "code",
   "execution_count": null,
   "id": "dd21605f",
   "metadata": {},
   "outputs": [],
   "source": [
    "dataframe[dataframe['total_gols']==dataframe['total_gols'].max()]"
   ]
  },
  {
   "cell_type": "code",
   "execution_count": null,
   "id": "f192adc6",
   "metadata": {},
   "outputs": [],
   "source": [
    "dataframe[dataframe['total_gols']==dataframe['total_gols'].min()]"
   ]
  },
  {
   "cell_type": "code",
   "execution_count": null,
   "id": "7589afb7",
   "metadata": {},
   "outputs": [],
   "source": [
    "xPartidas = len(dataframe.index)\n",
    "xPartidas"
   ]
  },
  {
   "cell_type": "code",
   "execution_count": null,
   "id": "a6823f85",
   "metadata": {},
   "outputs": [],
   "source": [
    "xMandante = len(dataframe.loc[dataframe['vitoria_mandante'] == 1])\n",
    "xMandante"
   ]
  },
  {
   "cell_type": "code",
   "execution_count": null,
   "id": "043519cb",
   "metadata": {},
   "outputs": [],
   "source": [
    "xVisitante = len(dataframe.loc[dataframe['vitoria_visitante'] == 1])\n",
    "xVisitante"
   ]
  },
  {
   "cell_type": "code",
   "execution_count": null,
   "id": "2919e50d",
   "metadata": {},
   "outputs": [],
   "source": [
    "xEmpate = len(dataframe.loc[dataframe['jogo_empatado'] == 1])\n",
    "xEmpate"
   ]
  },
  {
   "cell_type": "code",
   "execution_count": null,
   "id": "32cf3a16",
   "metadata": {},
   "outputs": [],
   "source": [
    "xEmpate / xPartidas"
   ]
  },
  {
   "cell_type": "code",
   "execution_count": null,
   "id": "c594e2a3",
   "metadata": {},
   "outputs": [],
   "source": [
    "Partidas = [\n",
    "            ['% Vitória Mandante', (xMandante/xPartidas)*100 ],\n",
    "            ['% Vitória Visitante',(xVisitante/xPartidas)*100 ],\n",
    "            ['% Empate', (xEmpate/xPartidas)*100 ],\n",
    "           ]\n",
    "\n",
    "dfPartidas = pd.DataFrame(Partidas, columns=['Dados', 'Porcentagem'])\n",
    "dfPartidas"
   ]
  },
  {
   "cell_type": "code",
   "execution_count": null,
   "id": "2c702185",
   "metadata": {},
   "outputs": [],
   "source": [
    "interactive_plot(dataframe,'teste')"
   ]
  },
  {
   "cell_type": "code",
   "execution_count": null,
   "id": "beae88fa",
   "metadata": {},
   "outputs": [],
   "source": [
    "import pandas as pd\n",
    "caminho_do_arquivo = r'C:\\Users\\rafael.cassio\\Documents\\ProjetosPython\\Campeonato Brasileiro Serie A.xlsx'\n",
    "df = pd.read_excel(caminho_do_arquivo)\n",
    "df = pd.read_excel(caminho_do_arquivo, sheet_name='Sheet1')"
   ]
  },
  {
   "cell_type": "code",
   "execution_count": null,
   "id": "d04286bc",
   "metadata": {},
   "outputs": [],
   "source": [
    "df_2022 = df.loc[df['ano'] == 2022]"
   ]
  },
  {
   "cell_type": "code",
   "execution_count": null,
   "id": "e7c83d21",
   "metadata": {},
   "outputs": [],
   "source": [
    "df_mandante = df_2022.groupby('mandante')['ponto_mandante'].sum()\n",
    "df_visitante = df_2022.groupby('visitante')['ponto_visitante'].sum()"
   ]
  },
  {
   "cell_type": "code",
   "execution_count": null,
   "id": "33f61a13",
   "metadata": {},
   "outputs": [],
   "source": [
    "# Renomear colunas do DataFrame df_mandante\n",
    "df_mandante = df_mandante.reset_index().rename(columns={'mandante': 'time', 'ponto_mandante': 'pontos'})\n",
    "\n",
    "# Renomear colunas do DataFrame df_visitante\n",
    "df_visitante = df_visitante.reset_index().rename(columns={'visitante': 'time', 'ponto_visitante': 'pontos'})\n",
    "\n",
    "# Concatenar os DataFrames df_mandante e df_visitante em um único DataFrame\n",
    "df_times = pd.concat([df_mandante, df_visitante])"
   ]
  },
  {
   "cell_type": "code",
   "execution_count": null,
   "id": "7aa74ee8",
   "metadata": {},
   "outputs": [],
   "source": [
    "df_pontos_time = df_times.groupby('time')['pontos'].sum().reset_index()\n",
    "df_pontos_time = df_pontos_time.sort_values(by='pontos', ascending=False)\n",
    "df_pontos_time['classificação'] = df_pontos_time['pontos'].rank(method='min', ascending=False).astype(int)\n",
    "df_pontos_time = df_pontos_time.loc[:, ['classificação', 'time', 'pontos']]"
   ]
  },
  {
   "cell_type": "code",
   "execution_count": null,
   "id": "f2d2abb8",
   "metadata": {},
   "outputs": [],
   "source": [
    "print(df_pontos_time)"
   ]
  },
  {
   "cell_type": "code",
   "execution_count": null,
   "id": "20a2baad",
   "metadata": {},
   "outputs": [],
   "source": [
    "df_pontos_time = df_pontos_time.iloc[:-4]"
   ]
  },
  {
   "cell_type": "code",
   "execution_count": null,
   "id": "085b60c0",
   "metadata": {},
   "outputs": [],
   "source": [
    "print(df_pontos_time)"
   ]
  },
  {
   "cell_type": "code",
   "execution_count": null,
   "id": "a4555175",
   "metadata": {},
   "outputs": [],
   "source": [
    "pip install googlesearch-python"
   ]
  },
  {
   "cell_type": "code",
   "execution_count": null,
   "id": "57620793",
   "metadata": {},
   "outputs": [],
   "source": [
    "from googlesearch import search\n",
    "\n",
    "# Termo de pesquisa\n",
    "query = \"campeonato brasileiro série b 2022 melhores times\"\n",
    "\n",
    "# Número máximo de resultados a serem retornados\n",
    "num_results = 10\n",
    "\n",
    "# Realiza a busca no Google e armazena os resultados em uma lista\n",
    "results = search(query, num_results=num_results)\n",
    "\n",
    "# Imprime os resultados\n",
    "for result in results:\n",
    "    print(result)"
   ]
  },
  {
   "cell_type": "code",
   "execution_count": null,
   "id": "2a0b2aae",
   "metadata": {},
   "outputs": [],
   "source": [
    "dados = pd.read_html('https://pt.wikipedia.org/wiki/Campeonato_Brasileiro_de_Futebol_de_2022_-_S%C3%A9rie_B')"
   ]
  },
  {
   "cell_type": "code",
   "execution_count": null,
   "id": "1f2b52bb",
   "metadata": {},
   "outputs": [],
   "source": [
    "dados = pd.read_html(\"https://pt.wikipedia.org/wiki/Campeonato_Brasileiro_de_Futebol_de_2022_-_S%C3%A9rie_B\", match=\"Classificação ou rebaixamento\")"
   ]
  },
  {
   "cell_type": "code",
   "execution_count": null,
   "id": "168c34fc",
   "metadata": {},
   "outputs": [],
   "source": [
    "print(dados)"
   ]
  },
  {
   "cell_type": "code",
   "execution_count": null,
   "id": "13ff7697",
   "metadata": {},
   "outputs": [],
   "source": [
    "import pandas as pd\n",
    "\n",
    "url = \"https://pt.wikipedia.org/wiki/Campeonato_Brasileiro_de_Futebol_de_2022_-_S%C3%A9rie_B\"\n",
    "dados = pd.read_html(url, match=\"Classificação ou rebaixamento\")\n",
    "\n",
    "# Seleciona a primeira tabela da lista (índice 0)\n",
    "tabela = dados[0]\n",
    "\n",
    "# Transforma a tabela em um dataframe\n",
    "df = pd.concat([tabela])\n",
    "df = df.set_index(\"Equipes\")\n",
    "# Exibe o dataframe\n",
    "print(df)"
   ]
  },
  {
   "cell_type": "code",
   "execution_count": null,
   "id": "dcf1be2d",
   "metadata": {},
   "outputs": [],
   "source": [
    "df = df.iloc[:4, [0]]"
   ]
  },
  {
   "cell_type": "code",
   "execution_count": null,
   "id": "9f1bc608",
   "metadata": {},
   "outputs": [],
   "source": [
    "print(df)"
   ]
  },
  {
   "cell_type": "code",
   "execution_count": null,
   "id": "870e96e4",
   "metadata": {},
   "outputs": [],
   "source": [
    "import pandas as pd\n",
    "\n",
    "url = \"https://pt.wikipedia.org/wiki/Campeonato_Brasileiro_de_Futebol_de_2022_-_S%C3%A9rie_B\"\n",
    "dados = pd.read_html(url, match=\"Classificação ou rebaixamento\")\n",
    "\n",
    "tabela = dados[0]\n",
    "df = pd.concat([tabela])\n",
    "\n",
    "print(df)"
   ]
  },
  {
   "cell_type": "code",
   "execution_count": null,
   "id": "36c4b479",
   "metadata": {},
   "outputs": [],
   "source": [
    "print(df.info())"
   ]
  },
  {
   "cell_type": "code",
   "execution_count": null,
   "id": "1bd8a15b",
   "metadata": {},
   "outputs": [],
   "source": [
    "df = df.iloc[:, 1:2]"
   ]
  },
  {
   "cell_type": "code",
   "execution_count": null,
   "id": "c63e096c",
   "metadata": {},
   "outputs": [],
   "source": [
    "print(df)"
   ]
  },
  {
   "cell_type": "code",
   "execution_count": null,
   "id": "7799690a",
   "metadata": {},
   "outputs": [],
   "source": [
    "df = df.iloc[:4,:]"
   ]
  },
  {
   "cell_type": "code",
   "execution_count": null,
   "id": "4b8923fd",
   "metadata": {},
   "outputs": [],
   "source": [
    "print(df)"
   ]
  },
  {
   "cell_type": "code",
   "execution_count": null,
   "id": "c5aac849",
   "metadata": {},
   "outputs": [],
   "source": [
    "df_serie_a = df_pontos_time.loc[:, ['time']]\n",
    "df_serie_a.rename(columns={'time': 'Equipes'}, inplace=True)\n",
    "df_serie_b = df.loc[:, ['Equipes']]\n",
    "df_times = pd.concat([df_serie_a, df_serie_b])"
   ]
  },
  {
   "cell_type": "code",
   "execution_count": null,
   "id": "0d02752e",
   "metadata": {},
   "outputs": [],
   "source": [
    "print(df_times)"
   ]
  },
  {
   "cell_type": "code",
   "execution_count": null,
   "id": "8bfea4cd",
   "metadata": {},
   "outputs": [],
   "source": [
    "df_times['Equipes'] = df_times['Equipes'].replace({'Cruzeiro': 'Cruzeiro - MG'})\n",
    "df_times['Equipes'] = df_times['Equipes'].replace({'Vasco da Gama': 'Vasco da Gama - RJ'})\n",
    "df_times['Equipes'] = df_times['Equipes'].replace({'Grêmio': 'Grêmio - RS'})\n",
    "df_times['Equipes'] = df_times['Equipes'].replace({'Bahia': 'Bahia - BA'})"
   ]
  },
  {
   "cell_type": "code",
   "execution_count": null,
   "id": "af031faf",
   "metadata": {},
   "outputs": [],
   "source": [
    "print(df_times)"
   ]
  },
  {
   "cell_type": "code",
   "execution_count": null,
   "id": "7ffbe61a",
   "metadata": {},
   "outputs": [],
   "source": [
    "import pandas as pd\n",
    "caminho_do_arquivo = r'C:\\Users\\rafael.cassio\\Documents\\ProjetosPython\\Campeonato Brasileiro Serie A.xlsx'\n",
    "df_historico = pd.read_excel(caminho_do_arquivo)\n",
    "df_historico = pd.read_excel(caminho_do_arquivo, sheet_name='Sheet1')"
   ]
  },
  {
   "cell_type": "code",
   "execution_count": null,
   "id": "640718f3",
   "metadata": {},
   "outputs": [],
   "source": [
    "times = df_times['Equipes'].unique()\n",
    "filtro = df_historico['mandante'].isin(times) | df_historico['visitante'].isin(times)\n",
    "df_previsao_2023 = df_historico[filtro]\n",
    "print(df_previsao_2023)"
   ]
  },
  {
   "cell_type": "code",
   "execution_count": null,
   "id": "ffc0b415",
   "metadata": {},
   "outputs": [],
   "source": [
    "df_times.to_excel('Times.xlsx', index=False)"
   ]
  },
  {
   "cell_type": "code",
   "execution_count": null,
   "id": "c63be83a",
   "metadata": {},
   "outputs": [],
   "source": [
    "import os\n",
    "import sys\n",
    "\n",
    "print(os.path.dirname(sys.executable))"
   ]
  },
  {
   "cell_type": "code",
   "execution_count": null,
   "id": "afc22170",
   "metadata": {},
   "outputs": [],
   "source": [
    "C:\\ProgramData\\Anaconda3"
   ]
  },
  {
   "cell_type": "code",
   "execution_count": null,
   "id": "d723467c",
   "metadata": {},
   "outputs": [],
   "source": [
    "import pandas as pd\n",
    "caminho_do_arquivo = r'C:\\Users\\rafael.cassio\\Documents\\ProjetosPython\\Campeonato Brasileiro Serie A.xlsx'\n",
    "df_historico = pd.read_excel(caminho_do_arquivo)\n",
    "df_historico = pd.read_excel(caminho_do_arquivo, sheet_name='Sheet1')"
   ]
  },
  {
   "cell_type": "code",
   "execution_count": null,
   "id": "8dfeba11",
   "metadata": {},
   "outputs": [],
   "source": [
    "import pandas as pd\n",
    "caminho_do_arquivo2 = r'C:\\Users\\rafael.cassio\\Documents\\ProjetosPython\\Times.xlsx'\n",
    "df_times = pd.read_excel(caminho_do_arquivo2)\n",
    "df_times = pd.read_excel(caminho_do_arquivo2, sheet_name='Sheet1')"
   ]
  },
  {
   "cell_type": "code",
   "execution_count": null,
   "id": "85df24d4",
   "metadata": {},
   "outputs": [],
   "source": [
    "# Criar um set com as equipes presentes em df_times\n",
    "equipes_set = set(df_times['Equipes'])\n",
    "\n",
    "# Filtrar as linhas de df_historico em que as equipes mandante e visitante estão presentes em equipes_set\n",
    "df_preditive_conf_direct = df_historico.loc[\n",
    "    df_historico['mandante'].isin(equipes_set) & df_historico['visitante'].isin(equipes_set)\n",
    "].copy()\n",
    "\n",
    "# Redefinir o índice do novo dataframe\n",
    "df_preditive_conf_direct.reset_index(drop=True, inplace=True)"
   ]
  },
  {
   "cell_type": "code",
   "execution_count": null,
   "id": "32db8c13",
   "metadata": {},
   "outputs": [],
   "source": [
    "df_preditive_conf_direct_grouped = df_preditive_conf_direct.groupby(['mandante', 'visitante']).agg({\n",
    "    'vitoria_mandante': 'sum',\n",
    "    'vitoria_visitante': 'sum',\n",
    "    'jogo_empatado': 'sum'\n",
    "}).reset_index()\n",
    "\n",
    "df_preditive_conf_direct_grouped = df_preditive_conf_direct_grouped.rename(columns={\n",
    "    'vitoria_mandante': 'vitorias_mandante',\n",
    "    'vitoria_visitante': 'vitorias_visitante',\n",
    "    'jogo_empatado': 'jogos_empatados'\n",
    "})"
   ]
  },
  {
   "cell_type": "code",
   "execution_count": null,
   "id": "787d77ee",
   "metadata": {},
   "outputs": [],
   "source": [
    "print(df_preditive_conf_direct_grouped)"
   ]
  },
  {
   "cell_type": "code",
   "execution_count": null,
   "id": "48761085",
   "metadata": {},
   "outputs": [],
   "source": [
    "from sklearn.linear_model import LogisticRegression\n",
    "from sklearn.model_selection import train_test_split\n",
    "\n",
    "# Separar os dados em conjunto de treinamento e teste\n",
    "X = df_preditive_conf_direct_grouped[['vitorias_mandante', 'vitorias_visitante', 'jogos_empatados']]\n",
    "y = df_preditive_conf_direct_grouped.apply(lambda x: 1 if x['vitorias_mandante'] > x['vitorias_visitante'] else 0, axis=1)\n",
    "X_train, X_test, y_train, y_test = train_test_split(X, y, test_size=0.2, random_state=42)"
   ]
  },
  {
   "cell_type": "code",
   "execution_count": null,
   "id": "ac262b1b",
   "metadata": {},
   "outputs": [],
   "source": [
    "from sklearn.linear_model import LogisticRegression\n",
    "from sklearn.model_selection import train_test_split\n",
    "from sklearn.metrics import accuracy_score, precision_score, recall_score, f1_score\n",
    "\n",
    "# Separar os dados em conjunto de treinamento e teste\n",
    "X = df_preditive_conf_direct_grouped[['vitorias_mandante', 'vitorias_visitante', 'jogos_empatados']]\n",
    "y = df_preditive_conf_direct_grouped.apply(lambda x: 1 if x['vitorias_mandante'] > x['vitorias_visitante'] else 0, axis=1)\n",
    "X_train, X_test, y_train, y_test = train_test_split(X, y, test_size=0.2, random_state=42)\n",
    "\n",
    "# Instanciar e treinar o modelo de regressão logística\n",
    "lr = LogisticRegression(random_state=42)\n",
    "lr.fit(X_train, y_train)\n",
    "\n",
    "# Fazer previsões para o conjunto de treinamento e teste\n",
    "y_train_pred = lr.predict(X_train)\n",
    "y_test_pred = lr.predict(X_test)\n",
    "\n",
    "# Avaliar o desempenho do modelo utilizando métricas de avaliação\n",
    "train_acc = accuracy_score(y_train, y_train_pred)\n",
    "test_acc = accuracy_score(y_test, y_test_pred)\n",
    "train_prec = precision_score(y_train, y_train_pred)\n",
    "test_prec = precision_score(y_test, y_test_pred)\n",
    "train_rec = recall_score(y_train, y_train_pred)\n",
    "test_rec = recall_score(y_test, y_test_pred)\n",
    "train_f1 = f1_score(y_train, y_train_pred)\n",
    "test_f1 = f1_score(y_test, y_test_pred)\n",
    "\n",
    "# Printar os resultados\n",
    "print(f\"Acurácia de treinamento: {train_acc:.2f}\")\n",
    "print(f\"Acurácia de teste: {test_acc:.2f}\")\n",
    "print(f\"Precision de treinamento: {train_prec:.2f}\")\n",
    "print(f\"Precision de teste: {test_prec:.2f}\")\n",
    "print(f\"Recall de treinamento: {train_rec:.2f}\")\n",
    "print(f\"Recall de teste: {test_rec:.2f}\")\n",
    "print(f\"F1-Score de treinamento: {train_f1:.2f}\")\n",
    "print(f\"F1-Score de teste: {test_f1:.2f}\")"
   ]
  },
  {
   "cell_type": "code",
   "execution_count": null,
   "id": "57a459bc",
   "metadata": {},
   "outputs": [],
   "source": [
    "df_preditive_conf_direct_grouped.to_excel(\"c:/temp/ivo.xlsx\", index=False) "
   ]
  },
  {
   "cell_type": "code",
   "execution_count": null,
   "id": "fbb9b57e",
   "metadata": {},
   "outputs": [],
   "source": [
    "import pandas as pd\n",
    "from itertools import combinations\n",
    "\n",
    "# criar o DataFrame com todas as combinações de equipes\n",
    "equipes = df_times[\"Equipes\"]\n",
    "combinacoes = list(combinations(equipes, 2))\n",
    "\n",
    "# criar o DataFrame com as colunas Mandante e Visitante\n",
    "df_jogos = pd.DataFrame(combinacoes, columns=[\"Mandante\", \"Visitante\"])\n",
    "\n",
    "# criar um DataFrame com as combinações reversas\n",
    "df_jogos_reverso = df_jogos.copy()\n",
    "df_jogos_reverso.columns = [\"Visitante\", \"Mandante\"]\n",
    "\n",
    "# concatenar os dois DataFrames sem as duplicatas\n",
    "df_jogos_total = pd.concat([df_jogos, df_jogos_reverso]).drop_duplicates()\n",
    "\n",
    "# exibir o DataFrame com os jogos\n",
    "print(df_jogos_total)"
   ]
  },
  {
   "cell_type": "code",
   "execution_count": null,
   "id": "71faf2b1",
   "metadata": {},
   "outputs": [],
   "source": [
    "df_jogos_total.to_excel(\"c:/temp/ivo1.xlsx\", index=False) "
   ]
  },
  {
   "cell_type": "code",
   "execution_count": null,
   "id": "dc84d079",
   "metadata": {},
   "outputs": [],
   "source": [
    "import pandas as pd\n",
    "caminho_do_arquivo = r'c:/temp/ivo.xlsx'\n",
    "df_preditive_conf_direct_gruped = pd.read_excel(caminho_do_arquivo)\n",
    "df_preditive_conf_direct_gruped = pd.read_excel(caminho_do_arquivo, sheet_name='Sheet1')"
   ]
  },
  {
   "cell_type": "code",
   "execution_count": null,
   "id": "f9533b58",
   "metadata": {},
   "outputs": [],
   "source": [
    "# Calculando as probabilidades\n",
    "df_preditive_conf_direct_gruped['Probabilidade_Vitoria_Mandante'] = df_preditive_conf_direct_gruped['vitorias_mandante'] / (df_preditive_conf_direct_gruped['vitorias_mandante'] + df_preditive_conf_direct_gruped['vitorias_visitante'] + df_preditive_conf_direct_gruped['jogos_empatados'])\n",
    "df_preditive_conf_direct_gruped['Probabilidade_Vitoria_Visitante'] = df_preditive_conf_direct_gruped['vitorias_visitante'] / (df_preditive_conf_direct_gruped['vitorias_mandante'] + df_preditive_conf_direct_gruped['vitorias_visitante'] + df_preditive_conf_direct_gruped['jogos_empatados'])\n",
    "df_preditive_conf_direct_gruped['Probabilidade_Empate'] = df_preditive_conf_direct_gruped['jogos_empatados'] / (df_preditive_conf_direct_gruped['vitorias_mandante'] + df_preditive_conf_direct_gruped['vitorias_visitante'] + df_preditive_conf_direct_gruped['jogos_empatados'])\n",
    "\n",
    "# Criando as colunas pontos_mandante e pontos_visitante\n",
    "df_preditive_conf_direct_gruped['pontos_mandante'] = df_preditive_conf_direct_gruped.apply(lambda row: 3 if row['Probabilidade_Vitoria_Mandante'] > row['Probabilidade_Vitoria_Visitante'] and row['Probabilidade_Vitoria_Mandante'] >= row['Probabilidade_Empate'] else (1 if row['Probabilidade_Empate'] > row['Probabilidade_Vitoria_Mandante'] and row['Probabilidade_Empate'] > row['Probabilidade_Vitoria_Visitante'] else 0), axis=1)\n",
    "\n",
    "df_preditive_conf_direct_gruped['pontos_visitante'] = df_preditive_conf_direct_gruped.apply(lambda row: 3 if row['Probabilidade_Vitoria_Visitante'] > row['Probabilidade_Vitoria_Mandante'] and row['Probabilidade_Vitoria_Visitante'] >= row['Probabilidade_Empate'] else (1 if row['Probabilidade_Empate'] > row['Probabilidade_Vitoria_Mandante'] and row['Probabilidade_Empate'] > row['Probabilidade_Vitoria_Visitante'] else 0), axis=1)\n"
   ]
  },
  {
   "cell_type": "code",
   "execution_count": null,
   "id": "2fa49bca",
   "metadata": {},
   "outputs": [],
   "source": [
    "import pandas as pd\n",
    "\n",
    "# calcular as pobabilidades de vitória do mandante, visitante e empate\n",
    "df_probabilidades = df_preditive_conf_direct_gruped.apply(\n",
    "    lambda x: pd.Series({\n",
    "        \"Probabilidade_Vitoria_Mandante\": x[\"vitorias_mandante\"] / (x[\"vitorias_mandante\"] + x[\"vitorias_visitante\"] + x[\"jogos_empatados\"]),\n",
    "        \"Probabilidade_Vitoria_Visitante\": x[\"vitorias_visitante\"] / (x[\"vitorias_mandante\"] + x[\"vitorias_visitante\"] + x[\"jogos_empatados\"]),\n",
    "        \"Probabilidade_Empate\": x[\"jogos_empatados\"] / (x[\"vitorias_mandante\"] + x[\"vitorias_visitante\"] + x[\"jogos_empatados\"])\n",
    "    }), axis=1)\n",
    "\n",
    "# adicionar as colunas de probabilidades ao DataFrame original\n",
    "df_probabilidades_result = pd.concat([df_preditive_conf_direct_gruped, df_probabilidades], axis=1)\n",
    "\n",
    "# exibir o DataFrame com as probabilidades\n",
    "print(df_probabilidades_result)"
   ]
  },
  {
   "cell_type": "code",
   "execution_count": null,
   "id": "ce3844a9",
   "metadata": {},
   "outputs": [],
   "source": [
    "# calcular a probabilidade de vitoria do mandante, visitante e empate\n",
    "df_preditive_conf_direct_gruped['Probabilidade_Vitoria_Mandante'] = df_preditive_conf_direct_gruped['vitorias_mandante'] / (df_preditive_conf_direct_gruped['vitorias_mandante'] + df_preditive_conf_direct_gruped['vitorias_visitante'] + df_preditive_conf_direct_gruped['jogos_empatados'])\n",
    "df_preditive_conf_direct_gruped['Probabilidade_Vitoria_Visitante'] = df_preditive_conf_direct_gruped['vitorias_visitante'] / (df_preditive_conf_direct_gruped['vitorias_mandante'] + df_preditive_conf_direct_gruped['vitorias_visitante'] + df_preditive_conf_direct_gruped['jogos_empatados'])\n",
    "df_preditive_conf_direct_gruped['Probabilidade_Empate'] = df_preditive_conf_direct_gruped['jogos_empatados'] / (df_preditive_conf_direct_gruped['vitorias_mandante'] + df_preditive_conf_direct_gruped['vitorias_visitante'] + df_preditive_conf_direct_gruped['jogos_empatados'])\n",
    "\n",
    "# calcular pontos mandante\n",
    "df_preditive_conf_direct_gruped.loc[(df_preditive_conf_direct_gruped['Probabilidade_Vitoria_Mandante'] > df_preditive_conf_direct_gruped['Probabilidade_Vitoria_Visitante']) & (df_preditive_conf_direct_gruped['Probabilidade_Vitoria_Mandante'] > df_preditive_conf_direct_gruped['Probabilidade_Empate']), 'pontos_mandante'] = 3\n",
    "df_preditive_conf_direct_gruped.loc[(df_preditive_conf_direct_gruped['Probabilidade_Empate'] > df_preditive_conf_direct_gruped['Probabilidade_Vitoria_Visitante']) & (df_preditive_conf_direct_gruped['Probabilidade_Empate'] > df_preditive_conf_direct_gruped['Probabilidade_Vitoria_Mandante']), 'pontos_mandante'] = 1\n",
    "df_preditive_conf_direct_gruped.loc[df_preditive_conf_direct_gruped['pontos_mandante'].isna(), 'pontos_mandante'] = 0\n",
    "\n",
    "# calcular pontos visitante\n",
    "df_preditive_conf_direct_gruped.loc[(df_preditive_conf_direct_gruped['Probabilidade_Vitoria_Visitante'] > df_preditive_conf_direct_gruped['Probabilidade_Vitoria_Mandante']) & (df_preditive_conf_direct_gruped['Probabilidade_Vitoria_Visitante'] > df_preditive_conf_direct_gruped['Probabilidade_Empate']), 'pontos_visitante'] = 3\n",
    "df_preditive_conf_direct_gruped.loc[(df_preditive_conf_direct_gruped['Probabilidade_Empate'] > df_preditive_conf_direct_gruped['Probabilidade_Vitoria_Visitante']) & (df_preditive_conf_direct_gruped['Probabilidade_Empate'] > df_preditive_conf_direct_gruped['Probabilidade_Vitoria_Mandante']), 'pontos_visitante'] = 1\n",
    "df_preditive_conf_direct_gruped.loc[df_preditive_conf_direct_gruped['pontos_visitante'].isna(), 'pontos_visitante'] = 0\n"
   ]
  },
  {
   "cell_type": "code",
   "execution_count": null,
   "id": "344d589a",
   "metadata": {},
   "outputs": [],
   "source": [
    "print(df_preditive_conf_direct_gruped)"
   ]
  },
  {
   "cell_type": "code",
   "execution_count": null,
   "id": "9f9f802d",
   "metadata": {},
   "outputs": [],
   "source": [
    "df_mandante = df_preditive_conf_direct_gruped.groupby('mandante')['pontos_mandante'].sum()\n",
    "df_visitante = df_preditive_conf_direct_gruped.groupby('visitante')['pontos_visitante'].sum()"
   ]
  },
  {
   "cell_type": "code",
   "execution_count": null,
   "id": "2981fb11",
   "metadata": {},
   "outputs": [],
   "source": [
    "# Renomear colunas do DataFrame df_mandante\n",
    "df_mandante = df_mandante.reset_index().rename(columns={'mandante': 'time', 'pontos_mandante': 'pontos'})\n",
    "\n",
    "# Renomear colunas do DataFrame df_visitante\n",
    "df_visitante = df_visitante.reset_index().rename(columns={'visitante': 'time', 'pontos_visitante': 'pontos'})\n",
    "\n",
    "# Concatenar os DataFrames df_mandante e df_visitante em um único DataFrame\n",
    "df_times = pd.concat([df_mandante, df_visitante])"
   ]
  },
  {
   "cell_type": "code",
   "execution_count": null,
   "id": "f171a5c9",
   "metadata": {},
   "outputs": [],
   "source": [
    "df_pontos_time = df_times.groupby('time')['pontos'].sum().reset_index()\n",
    "df_pontos_time = df_pontos_time.sort_values(by='pontos', ascending=False)\n",
    "df_pontos_time['classificação'] = df_pontos_time['pontos'].rank(method='min', ascending=False).astype(int)\n",
    "df_pontos_time = df_pontos_time.loc[:, ['classificação', 'time', 'pontos']]"
   ]
  },
  {
   "cell_type": "code",
   "execution_count": null,
   "id": "804fb7bd",
   "metadata": {},
   "outputs": [],
   "source": [
    "print(df_pontos_time)"
   ]
  },
  {
   "cell_type": "code",
   "execution_count": null,
   "id": "496078c5",
   "metadata": {},
   "outputs": [],
   "source": [
    "df_pontos_time.to_excel(\"c:/temp/df_pontos_time.xlsx\", index=False) "
   ]
  },
  {
   "cell_type": "code",
   "execution_count": null,
   "id": "1131bdc4",
   "metadata": {},
   "outputs": [],
   "source": [
    "df_preditive_conf_direct_gruped.to_excel(\"c:/temp/df_preditive_conf_direct_gruped.xlsx\", index=False) "
   ]
  },
  {
   "cell_type": "code",
   "execution_count": null,
   "id": "b8f9d535",
   "metadata": {},
   "outputs": [],
   "source": [
    "import pandas as pd\n",
    "caminho_do_arquivo = r'c:/temp/ivo.xlsx'\n",
    "df_preditive_conf_direct_gruped = pd.read_excel(caminho_do_arquivo)\n",
    "df_preditive_conf_direct_gruped = pd.read_excel(caminho_do_arquivo, sheet_name='Sheet1')"
   ]
  },
  {
   "cell_type": "code",
   "execution_count": null,
   "id": "38b75922",
   "metadata": {},
   "outputs": [],
   "source": [
    "# Importe o pandas\n",
    "import pandas as pd\n",
    "\n",
    "# Aplique as fórmulas às colunas relevantes do dataframe\n",
    "df_preditive_conf_direct_gruped[['prob_vitoria_visitante', 'prob_vitoria_mandante', 'prob_empate']] = df_preditive_conf_direct_gruped.apply(\n",
    "    lambda row: pd.Series({\n",
    "        'prob_vitoria_visitante': row['vitorias_visitante'] / (row['vitorias_mandante'] + row['vitorias_visitante'] + row['jogos_empatados']),\n",
    "        'prob_vitoria_mandante': row['vitorias_mandante'] / (row['vitorias_mandante'] + row['vitorias_visitante'] + row['jogos_empatados']),\n",
    "        'prob_empate': row['jogos_empatados'] / (row['vitorias_mandante'] + row['vitorias_visitante'] + row['jogos_empatados'])\n",
    "    }), axis=1)\n"
   ]
  },
  {
   "cell_type": "code",
   "execution_count": null,
   "id": "796b1fe8",
   "metadata": {},
   "outputs": [],
   "source": [
    "# Defina uma função para calcular os pontos do mandante\n",
    "def calcular_pontos_mandante(row):\n",
    "    if row['prob_vitoria_mandante'] > row['prob_vitoria_visitante'] and row['prob_vitoria_mandante'] >= row['prob_empate']:\n",
    "        return 3\n",
    "    elif row['prob_empate'] > row['prob_vitoria_mandante'] and row['prob_empate'] > row['prob_vitoria_visitante']:\n",
    "        return 1\n",
    "    elif row['prob_vitoria_mandante'] > row['prob_empate'] and row['prob_vitoria_mandante'] == row['prob_vitoria_visitante']:\n",
    "        return 1\n",
    "    elif row['prob_vitoria_mandante'] == row['prob_empate'] and row['prob_vitoria_mandante'] == row['prob_vitoria_visitante']:\n",
    "        return 1\n",
    "    else:\n",
    "        return 0\n",
    "\n",
    "# Defina uma função para calcular os pontos do visitante\n",
    "def calcular_pontos_visitante(row):\n",
    "    if row['prob_vitoria_visitante'] > row['prob_vitoria_mandante'] and row['prob_vitoria_visitante'] >= row['prob_empate']:\n",
    "        return 3\n",
    "    elif row['prob_empate'] > row['prob_vitoria_mandante'] and row['prob_empate'] > row['prob_vitoria_visitante']:\n",
    "        return 1\n",
    "    elif row['prob_vitoria_visitante'] > row['prob_empate'] and row['prob_vitoria_mandante'] == row['prob_vitoria_visitante']:\n",
    "        return 1\n",
    "    elif row['prob_vitoria_mandante'] == row['prob_empate'] and row['prob_vitoria_mandante'] == row['prob_vitoria_visitante']:\n",
    "        return 1\n",
    "    else:\n",
    "        return 0\n",
    "\n",
    "# Aplique as funções às colunas relevantes do dataframe\n",
    "df_preditive_conf_direct_gruped['pontos_mandante'] = df_preditive_conf_direct_gruped.apply(calcular_pontos_mandante, axis=1)\n",
    "df_preditive_conf_direct_gruped['pontos_visitante'] = df_preditive_conf_direct_gruped.apply(calcular_pontos_visitante, axis=1)"
   ]
  },
  {
   "cell_type": "code",
   "execution_count": null,
   "id": "71dcb500",
   "metadata": {},
   "outputs": [],
   "source": [
    "print(df_preditive_conf_direct_gruped)"
   ]
  },
  {
   "cell_type": "code",
   "execution_count": null,
   "id": "00263be7",
   "metadata": {},
   "outputs": [],
   "source": [
    "df_preditive_conf_direct_gruped.to_excel('df_preditive_conf_direct_gruped.xlsx', index=False)"
   ]
  },
  {
   "cell_type": "code",
   "execution_count": null,
   "id": "4d032c7e",
   "metadata": {},
   "outputs": [],
   "source": [
    "df_mandante = df_preditive_conf_direct_gruped.groupby('mandante')['pontos_mandante'].sum()\n",
    "df_visitante = df_preditive_conf_direct_gruped.groupby('visitante')['pontos_visitante'].sum()"
   ]
  },
  {
   "cell_type": "code",
   "execution_count": null,
   "id": "92684230",
   "metadata": {},
   "outputs": [],
   "source": [
    "# Renomear colunas do DataFrame df_mandante\n",
    "df_mandante = df_mandante.reset_index().rename(columns={'mandante': 'time', 'pontos_mandante': 'pontos'})\n",
    "\n",
    "# Renomear colunas do DataFrame df_visitante\n",
    "df_visitante = df_visitante.reset_index().rename(columns={'visitante': 'time', 'pontos_visitante': 'pontos'})\n",
    "\n",
    "# Concatenar os DataFrames df_mandante e df_visitante em um único DataFrame\n",
    "df_times = pd.concat([df_mandante, df_visitante])"
   ]
  },
  {
   "cell_type": "code",
   "execution_count": null,
   "id": "ca14254f",
   "metadata": {},
   "outputs": [],
   "source": [
    "df_pontos_time = df_times.groupby('time')['pontos'].sum().reset_index()\n",
    "df_pontos_time = df_pontos_time.sort_values(by='pontos', ascending=False)\n",
    "df_pontos_time['classificação'] = df_pontos_time['pontos'].rank(method='min', ascending=False).astype(int)\n",
    "df_pontos_time = df_pontos_time.loc[:, ['classificação', 'time', 'pontos']]"
   ]
  },
  {
   "cell_type": "code",
   "execution_count": null,
   "id": "d452b4ef",
   "metadata": {},
   "outputs": [],
   "source": [
    "print(df_pontos_time)"
   ]
  },
  {
   "cell_type": "code",
   "execution_count": null,
   "id": "de9d005f",
   "metadata": {},
   "outputs": [],
   "source": [
    "df_preditive_conf_direct_gruped.to_excel('df_preditive_conf_direct_gruped.xlsx', index=False)\n",
    "df_pontos_time.to_excel('df_pontos_time.xlsx', index=False)"
   ]
  },
  {
   "cell_type": "code",
   "execution_count": null,
   "id": "3a874572",
   "metadata": {},
   "outputs": [],
   "source": [
    "print(df_preditive_conf_direct_gruped)"
   ]
  },
  {
   "cell_type": "code",
   "execution_count": null,
   "id": "aca1fcd4",
   "metadata": {},
   "outputs": [],
   "source": [
    "df_melhor_mandante = df_preditive_conf_direct_gruped.groupby('mandante')['pontos_mandante'].sum().reset_index()\n",
    "df_melhor_mandante = df_melhor_mandante.sort_values(by='pontos_mandante', ascending=False)\n",
    "df_melhor_mandante['classificação'] = df_melhor_mandante['pontos_mandante'].rank(method='min', ascending=False).astype(int)\n",
    "df_melhor_mandante = df_melhor_mandante.loc[:, ['classificação', 'mandante', 'pontos_mandante']]"
   ]
  },
  {
   "cell_type": "code",
   "execution_count": null,
   "id": "1c3c2eab",
   "metadata": {},
   "outputs": [],
   "source": [
    "print(df_melhor_mandante)"
   ]
  },
  {
   "cell_type": "code",
   "execution_count": null,
   "id": "747aed77",
   "metadata": {},
   "outputs": [],
   "source": [
    "df_melhor_visitante = df_preditive_conf_direct_gruped.groupby('visitante')['pontos_visitante'].sum().reset_index()\n",
    "df_melhor_visitante = df_melhor_visitante.sort_values(by='pontos_visitante', ascending=False)\n",
    "df_melhor_visitante['classificação'] = df_melhor_visitante['pontos_visitante'].rank(method='min', ascending=False).astype(int)\n",
    "df_melhor_visitante = df_melhor_visitante.loc[:, ['classificação', 'visitante', 'pontos_visitante']]"
   ]
  },
  {
   "cell_type": "code",
   "execution_count": null,
   "id": "32694cd0",
   "metadata": {},
   "outputs": [],
   "source": [
    "print(df_melhor_visitante)"
   ]
  },
  {
   "cell_type": "code",
   "execution_count": null,
   "id": "4e6eb8c1",
   "metadata": {},
   "outputs": [],
   "source": [
    "df_preditive_conf_direct_gruped.to_excel('df_preditive_conf_direct_gruped.xlsx', sheet_name='df_preditive_conf_direct_gruped')"
   ]
  }
 ],
 "metadata": {
  "kernelspec": {
   "display_name": "Python 3 (ipykernel)",
   "language": "python",
   "name": "python3"
  },
  "language_info": {
   "codemirror_mode": {
    "name": "ipython",
    "version": 3
   },
   "file_extension": ".py",
   "mimetype": "text/x-python",
   "name": "python",
   "nbconvert_exporter": "python",
   "pygments_lexer": "ipython3",
   "version": "3.9.13"
  }
 },
 "nbformat": 4,
 "nbformat_minor": 5
}
